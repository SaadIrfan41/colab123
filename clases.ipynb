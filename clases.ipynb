{
  "nbformat": 4,
  "nbformat_minor": 0,
  "metadata": {
    "colab": {
      "provenance": [],
      "authorship_tag": "ABX9TyM/d6xyQEZ/P1foXvKtmS3P",
      "include_colab_link": true
    },
    "kernelspec": {
      "name": "python3",
      "display_name": "Python 3"
    },
    "language_info": {
      "name": "python"
    }
  },
  "cells": [
    {
      "cell_type": "markdown",
      "metadata": {
        "id": "view-in-github",
        "colab_type": "text"
      },
      "source": [
        "<a href=\"https://colab.research.google.com/github/SaadIrfan41/colab123/blob/main/clases.ipynb\" target=\"_parent\"><img src=\"https://colab.research.google.com/assets/colab-badge.svg\" alt=\"Open In Colab\"/></a>"
      ]
    },
    {
      "cell_type": "code",
      "source": [
        "class ClassName:\n",
        "  name=\"Saad\""
      ],
      "metadata": {
        "id": "Z7xhNPgYNH5-"
      },
      "execution_count": 2,
      "outputs": []
    },
    {
      "cell_type": "code",
      "source": [
        "obj=ClassName()"
      ],
      "metadata": {
        "id": "OgJSkciGOLNb"
      },
      "execution_count": 3,
      "outputs": []
    },
    {
      "cell_type": "code",
      "source": [
        "obj.name"
      ],
      "metadata": {
        "colab": {
          "base_uri": "https://localhost:8080/",
          "height": 35
        },
        "id": "Cb53kiCMOjXZ",
        "outputId": "89a941ea-4760-494d-8d61-5955931fb21b"
      },
      "execution_count": 4,
      "outputs": [
        {
          "output_type": "execute_result",
          "data": {
            "text/plain": [
              "'Saad'"
            ],
            "application/vnd.google.colaboratory.intrinsic+json": {
              "type": "string"
            }
          },
          "metadata": {},
          "execution_count": 4
        }
      ]
    },
    {
      "cell_type": "code",
      "source": [
        "ClassName.name"
      ],
      "metadata": {
        "colab": {
          "base_uri": "https://localhost:8080/",
          "height": 35
        },
        "id": "utUZIUt6OoVB",
        "outputId": "bda1660f-eae0-4e87-b027-3070807f4eb9"
      },
      "execution_count": 5,
      "outputs": [
        {
          "output_type": "execute_result",
          "data": {
            "text/plain": [
              "'Saad'"
            ],
            "application/vnd.google.colaboratory.intrinsic+json": {
              "type": "string"
            }
          },
          "metadata": {},
          "execution_count": 5
        }
      ]
    },
    {
      "cell_type": "code",
      "source": [
        "class Student:\n",
        "\n",
        "  def __init__(self,name,age):\n",
        "    self.name=name\n",
        "    self.age=age\n",
        "    print(\"Hello Students\")\n",
        "  def show(self):\n",
        "    print(self.name,self.age)"
      ],
      "metadata": {
        "id": "Zg2WQcg1Pk9j"
      },
      "execution_count": 59,
      "outputs": []
    },
    {
      "cell_type": "code",
      "source": [
        "std=Student(\"Saad\",20)\n",
        "std1=Student(\"Adnan\",23)\n",
        "std2=Student(\"Asad\",24)"
      ],
      "metadata": {
        "colab": {
          "base_uri": "https://localhost:8080/"
        },
        "id": "77pSzPj_Qbg6",
        "outputId": "7d9e8ed5-c76a-4d60-b0a3-871006a67ad9"
      },
      "execution_count": 56,
      "outputs": [
        {
          "output_type": "stream",
          "name": "stdout",
          "text": [
            "Hello Students\n",
            "Hello Students\n",
            "Hello Students\n"
          ]
        }
      ]
    },
    {
      "cell_type": "code",
      "source": [
        "print(std.name)\n",
        "print(std1.name)\n",
        "print(std2.name)"
      ],
      "metadata": {
        "colab": {
          "base_uri": "https://localhost:8080/"
        },
        "id": "lF7xagnjRFLp",
        "outputId": "b505ff76-609c-4741-bdd3-3f85a9bd296c"
      },
      "execution_count": 57,
      "outputs": [
        {
          "output_type": "stream",
          "name": "stdout",
          "text": [
            "Saad\n",
            "Adnan\n",
            "Asad\n"
          ]
        }
      ]
    },
    {
      "cell_type": "code",
      "source": [
        "std.show()"
      ],
      "metadata": {
        "colab": {
          "base_uri": "https://localhost:8080/"
        },
        "id": "Kfgbhv-yRxGG",
        "outputId": "c4e7e168-beef-44ac-fac1-cff97b69b565"
      },
      "execution_count": 58,
      "outputs": [
        {
          "output_type": "stream",
          "name": "stdout",
          "text": [
            "Saad 20\n"
          ]
        }
      ]
    },
    {
      "cell_type": "code",
      "source": [
        "class MathOperations:\n",
        "    name=\"Saad\"\n",
        "    @staticmethod\n",
        "    def add(a, b):\n",
        "        return a + b"
      ],
      "metadata": {
        "id": "KVEaKi-LU7d3"
      },
      "execution_count": 51,
      "outputs": []
    },
    {
      "cell_type": "code",
      "source": [
        "obj = MathOperations()"
      ],
      "metadata": {
        "id": "vI94G7o3gaZK"
      },
      "execution_count": 44,
      "outputs": []
    },
    {
      "cell_type": "code",
      "source": [
        "MathOperations.name=\"Adnan\"\n",
        "print(MathOperations.add(5, 10))\n",
        "print(MathOperations.name)"
      ],
      "metadata": {
        "colab": {
          "base_uri": "https://localhost:8080/"
        },
        "id": "YAjEmP3qgdAQ",
        "outputId": "73715195-95f7-43b3-8dc2-3bb06c714602"
      },
      "execution_count": 53,
      "outputs": [
        {
          "output_type": "stream",
          "name": "stdout",
          "text": [
            "15\n",
            "Adnan\n"
          ]
        }
      ]
    },
    {
      "cell_type": "code",
      "source": [
        "obj1=MathOperations()"
      ],
      "metadata": {
        "id": "ztMF2LPIgfXz"
      },
      "execution_count": 33,
      "outputs": []
    },
    {
      "cell_type": "code",
      "source": [
        "obj1.add(10,20)"
      ],
      "metadata": {
        "colab": {
          "base_uri": "https://localhost:8080/"
        },
        "id": "lP-462OBhihe",
        "outputId": "9ccb4e3a-1372-4839-acf6-22e0772b9f16"
      },
      "execution_count": 34,
      "outputs": [
        {
          "output_type": "execute_result",
          "data": {
            "text/plain": [
              "30"
            ]
          },
          "metadata": {},
          "execution_count": 34
        }
      ]
    },
    {
      "cell_type": "code",
      "source": [
        "MathOperations.add(10,10)"
      ],
      "metadata": {
        "colab": {
          "base_uri": "https://localhost:8080/"
        },
        "id": "w7ja3nXThlGR",
        "outputId": "5142cb4e-17f0-4f2e-adf9-528e6be5d759"
      },
      "execution_count": 41,
      "outputs": [
        {
          "output_type": "execute_result",
          "data": {
            "text/plain": [
              "20"
            ]
          },
          "metadata": {},
          "execution_count": 41
        }
      ]
    },
    {
      "cell_type": "code",
      "source": [
        "class Example:\n",
        "    class_variable = 10\n",
        "\n",
        "    def __init__(self, value):\n",
        "        self.instance_variable = value\n",
        "\n",
        "    @staticmethod\n",
        "    def static_method(a, b):\n",
        "        # Does not access class or instance variables\n",
        "        return a + b\n",
        "\n",
        "    @classmethod\n",
        "    def class_method(cls, increment):\n",
        "        # Operates on class level, can access class_variable\n",
        "        cls.class_variable += increment\n",
        "        return cls.class_variable"
      ],
      "metadata": {
        "id": "RmubfcwQjmVg"
      },
      "execution_count": 60,
      "outputs": []
    },
    {
      "cell_type": "code",
      "source": [
        "Example.class_method(5)"
      ],
      "metadata": {
        "colab": {
          "base_uri": "https://localhost:8080/"
        },
        "id": "lNRkfUPamBYv",
        "outputId": "44bda24b-3e44-439c-f7b5-b654fc874f5f"
      },
      "execution_count": 61,
      "outputs": [
        {
          "output_type": "execute_result",
          "data": {
            "text/plain": [
              "15"
            ]
          },
          "metadata": {},
          "execution_count": 61
        }
      ]
    },
    {
      "cell_type": "code",
      "source": [
        "Example.static_method(5, 3)"
      ],
      "metadata": {
        "colab": {
          "base_uri": "https://localhost:8080/"
        },
        "id": "EF2QSamRoKwB",
        "outputId": "6564dc15-a138-4118-be77-5e9bb82abd9b"
      },
      "execution_count": 62,
      "outputs": [
        {
          "output_type": "execute_result",
          "data": {
            "text/plain": [
              "8"
            ]
          },
          "metadata": {},
          "execution_count": 62
        }
      ]
    },
    {
      "cell_type": "code",
      "source": [],
      "metadata": {
        "id": "jzWkpr3YoQuI"
      },
      "execution_count": null,
      "outputs": []
    }
  ]
}