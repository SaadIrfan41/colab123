{
  "nbformat": 4,
  "nbformat_minor": 0,
  "metadata": {
    "colab": {
      "provenance": [],
      "authorship_tag": "ABX9TyNLjoqQvhYpdpRklCHtI1bQ",
      "include_colab_link": true
    },
    "kernelspec": {
      "name": "python3",
      "display_name": "Python 3"
    },
    "language_info": {
      "name": "python"
    }
  },
  "cells": [
    {
      "cell_type": "markdown",
      "metadata": {
        "id": "view-in-github",
        "colab_type": "text"
      },
      "source": [
        "<a href=\"https://colab.research.google.com/github/SaadIrfan41/colab123/blob/main/piaic_pwr.ipynb\" target=\"_parent\"><img src=\"https://colab.research.google.com/assets/colab-badge.svg\" alt=\"Open In Colab\"/></a>"
      ]
    },
    {
      "cell_type": "code",
      "execution_count": 1,
      "metadata": {
        "colab": {
          "base_uri": "https://localhost:8080/"
        },
        "id": "4glOZ7E9B_5R",
        "outputId": "e4b3eccf-c032-4070-9e09-c5e4ef4fa28f"
      },
      "outputs": [
        {
          "output_type": "stream",
          "name": "stdout",
          "text": [
            "Hello World\n"
          ]
        }
      ],
      "source": [
        "print(\"Hello World\")"
      ]
    },
    {
      "cell_type": "code",
      "source": [
        "# prompt: write a function to display a list of fruits\n",
        "\n",
        "def display_fruits():\n",
        "  \"\"\"\n",
        "  This function displays a list of fruits.\n",
        "  \"\"\"\n",
        "  fruits = [\"apple\", \"banana\", \"cherry\", \"orange\", \"grape\"]\n",
        "  print(\"List of fruits:\")\n",
        "  for fruit in fruits:\n",
        "    print(fruit)\n",
        "\n",
        "display_fruits()\n"
      ],
      "metadata": {
        "id": "KKdITq9BEpmM"
      },
      "execution_count": null,
      "outputs": []
    }
  ]
}